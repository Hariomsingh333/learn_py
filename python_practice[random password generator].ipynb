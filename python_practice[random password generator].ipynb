{
  "nbformat": 4,
  "nbformat_minor": 0,
  "metadata": {
    "colab": {
      "provenance": [],
      "authorship_tag": "ABX9TyOBUv+Me1gI9/hwXO7bdPfj",
      "include_colab_link": true
    },
    "kernelspec": {
      "name": "python3",
      "display_name": "Python 3"
    },
    "language_info": {
      "name": "python"
    }
  },
  "cells": [
    {
      "cell_type": "markdown",
      "metadata": {
        "id": "view-in-github",
        "colab_type": "text"
      },
      "source": [
        "<a href=\"https://colab.research.google.com/github/Harixomxsingh/learn_py/blob/master/python_practice%5Brandom%20password%20generator%5D.ipynb\" target=\"_parent\"><img src=\"https://colab.research.google.com/assets/colab-badge.svg\" alt=\"Open In Colab\"/></a>"
      ]
    },
    {
      "cell_type": "code",
      "execution_count": null,
      "metadata": {
        "colab": {
          "base_uri": "https://localhost:8080/"
        },
        "id": "06aoVqX_8MWL",
        "outputId": "556ff1cc-6ae6-4802-bf82-fade57a936f9"
      },
      "outputs": [
        {
          "output_type": "stream",
          "name": "stdout",
          "text": [
            "Sorted array is:\n",
            "1 2 3 4 5 6 7 8 9 Element is present at index 4\n"
          ]
        }
      ],
      "source": [
        "# prompt: reverse a string without useing slicing method\n",
        "\n",
        "def reverse_string(s):\n",
        "  r = \"\"\n",
        "  for i in range(len(s) - 1, -1, -1):\n",
        "    r += s[i]\n",
        "  return r\n"
      ]
    },
    {
      "cell_type": "code",
      "source": [
        "# write a function that find the max of 3 number\n",
        "def find_max_of_3(num1, num2, num3):\n",
        "  print(f\"this are the three number - {num1} , {num2}, {num3}\")\n",
        "  if num1 > num2 and num1 > num3:\n",
        "    print(f\"the max number is {num1}\")\n",
        "  elif num2 > num1 and num2 > num3:\n",
        "    print(f\"{num2} is the max value\")\n",
        "  else:\n",
        "    print(f\"{num3} is the max value out of three\" )\n",
        "\n",
        "\n",
        "\n",
        "try:\n",
        "  print(find_max_of_3(13,7,10))\n",
        "except:\n",
        "  print(\"there is some error\")\n",
        "\n"
      ],
      "metadata": {
        "colab": {
          "base_uri": "https://localhost:8080/"
        },
        "id": "NrWWmB3H9a_R",
        "outputId": "214e7e5e-30d2-4a16-8e78-409e95dcf84b"
      },
      "execution_count": null,
      "outputs": [
        {
          "output_type": "stream",
          "name": "stdout",
          "text": [
            "this are the three number - 13 , 7, 10\n",
            "the max number is 13\n",
            "None\n"
          ]
        }
      ]
    },
    {
      "cell_type": "code",
      "source": [
        "# write a fun to sum all the num in a list\n",
        "\n",
        "mylist = [12,12589,12,5,6,7,9]\n",
        "value = 0\n",
        "\n",
        "for i in mylist:\n",
        "  if i < 0:\n",
        "    print(\"the number is less then 0\")\n",
        "    break\n",
        "  value += i\n",
        "print(value)"
      ],
      "metadata": {
        "colab": {
          "base_uri": "https://localhost:8080/"
        },
        "id": "6xIiS38dANdC",
        "outputId": "f95c3dc3-8e24-4fb5-f3a9-b2e53a922ab1"
      },
      "execution_count": null,
      "outputs": [
        {
          "output_type": "stream",
          "name": "stdout",
          "text": [
            "12640\n"
          ]
        }
      ]
    },
    {
      "cell_type": "code",
      "source": [
        "# write a python program to reverse a string\n",
        "\n",
        "# userinput = input(\"enter your string here 👋\")\n",
        "userinput = \"hello\"\n",
        "\n",
        "# this is slice method\n",
        "# print(userinput[len(userinput)::-1])\n",
        "\n",
        "# normal method using loop\n",
        "reverse = \"\"\n",
        "for i in range(len(userinput) - 1, -1, -1):\n",
        "  reverse += userinput[i]\n",
        "\n",
        "print(reverse)"
      ],
      "metadata": {
        "colab": {
          "base_uri": "https://localhost:8080/"
        },
        "id": "bKHintInBq6a",
        "outputId": "e034f134-cb72-4839-f495-363fdc8d97f4"
      },
      "execution_count": null,
      "outputs": [
        {
          "output_type": "stream",
          "name": "stdout",
          "text": [
            "olleh\n"
          ]
        }
      ]
    },
    {
      "cell_type": "code",
      "source": [
        "# write a fun to make factorial of a number\n",
        "\n",
        "def factorial(num):\n",
        "  if num < 0 :\n",
        "    return 0\n",
        "  value = 1\n",
        "  for i in range(1,num+1):\n",
        "    value *= i\n",
        "  print(value)\n",
        "factorial(5)"
      ],
      "metadata": {
        "colab": {
          "base_uri": "https://localhost:8080/"
        },
        "id": "qjqpuTLNUS83",
        "outputId": "3f74c373-fce9-4da0-bce2-049033141815"
      },
      "execution_count": null,
      "outputs": [
        {
          "output_type": "stream",
          "name": "stdout",
          "text": [
            "120\n"
          ]
        }
      ]
    },
    {
      "cell_type": "code",
      "source": [
        "# write a fun to check whether a number fall under a given range\n",
        "\n",
        "rangeofnumber = list(range(0, 11, 1))\n",
        "\n",
        "def checknum(num,checklist):\n",
        "  for i in checklist:\n",
        "    if num == i:\n",
        "      return True\n",
        "  return False\n",
        "checknum(15, rangeofnumber)"
      ],
      "metadata": {
        "colab": {
          "base_uri": "https://localhost:8080/"
        },
        "id": "0tNE3TsMVrnP",
        "outputId": "fb082bbf-1a08-4a41-acf2-3e71f323bc29"
      },
      "execution_count": null,
      "outputs": [
        {
          "output_type": "execute_result",
          "data": {
            "text/plain": [
              "False"
            ]
          },
          "metadata": {},
          "execution_count": 55
        }
      ]
    },
    {
      "cell_type": "code",
      "source": [
        "# write a python functino that accept a string and count how many upper, lower letter are there\n",
        "\n",
        "# input = input(\"enter you text there 💌\")\n",
        "def check_str_upper_lower(input):\n",
        "  lower = 0\n",
        "  upper = 0\n",
        "  for i in input:\n",
        "    if i.islower():\n",
        "      lower += 1\n",
        "    if i.isupper():\n",
        "      upper += 1\n",
        "  return lower, upper\n",
        "\n",
        "lower, upper = check_str_upper_lower(input)\n",
        "print(f\"lower: {lower}, upper: {upper}\")"
      ],
      "metadata": {
        "colab": {
          "base_uri": "https://localhost:8080/"
        },
        "id": "3wvpy-JvZqrY",
        "outputId": "f9b21946-acb2-43b4-e8f0-734866e211ed"
      },
      "execution_count": null,
      "outputs": [
        {
          "output_type": "stream",
          "name": "stdout",
          "text": [
            "enter you text there 💌ll\n",
            "lower: 2, upper: 0\n"
          ]
        }
      ]
    },
    {
      "cell_type": "code",
      "source": [
        "# Write a function that takes a number as input and determines whether it's odd or even.\n",
        "\n",
        "def check_odd_even(num):\n",
        "  if num%2==0:\n",
        "    return \"Even\"\n",
        "  else:\n",
        "    return \"Odd\"\n",
        "\n",
        "value = check_odd_even(44)\n",
        "print(value)"
      ],
      "metadata": {
        "colab": {
          "base_uri": "https://localhost:8080/"
        },
        "id": "V4C5Gp3K8SBU",
        "outputId": "5a3f2efe-360d-4799-e06e-67404e941afc"
      },
      "execution_count": null,
      "outputs": [
        {
          "output_type": "stream",
          "name": "stdout",
          "text": [
            "Even\n"
          ]
        }
      ]
    },
    {
      "cell_type": "code",
      "source": [
        "#Create a program that takes a student's grades as input and calculates their final average grade.\n",
        "def students_grades(gradesarr):\n",
        "  gradelen = len(gradesarr)\n",
        "  sumgrade = 0\n",
        "  for i in gradesarr:\n",
        "    sumgrade += i\n",
        "  avg = sumgrade/gradelen\n",
        "  return f\"This is the avg {avg} of {gradesarr}\"\n",
        "\n",
        "print(students_grades([33,45,78,90]))"
      ],
      "metadata": {
        "colab": {
          "base_uri": "https://localhost:8080/"
        },
        "id": "kRYVGFNP9ONd",
        "outputId": "104b397c-0e73-4666-fc9f-c79cc8a31b70"
      },
      "execution_count": null,
      "outputs": [
        {
          "output_type": "stream",
          "name": "stdout",
          "text": [
            "This is the avg 61.5 of [33, 45, 78, 90]\n"
          ]
        }
      ]
    },
    {
      "cell_type": "code",
      "source": [
        "#Create a program that generates a random, secure password based on user-specified criteria (length, character types).\n",
        "\n",
        "import random\n",
        "\n",
        "def generates_password(len, chartype):\n",
        "  symbolpassword = \"\"\n",
        "  uppertextpassword = \"\"\n",
        "  lowertextpassword = \"\"\n",
        "  mixtextpassword = \"\"\n",
        "  for i in range(len):\n",
        "    if chartype == \"symbol\":\n",
        "      numSymbol = random.randint(32, 64)\n",
        "      symbolpassword += chr(numSymbol)\n",
        "      # print(ord(chr(numSymbol)))\n",
        "    if chartype == \"uppertext\":\n",
        "      upperrandnum = random.randint(65, 90)\n",
        "      upperchar = chr(upperrandnum)\n",
        "      uppertextpassword += upperchar\n",
        "    if chartype == \"lowertext\":\n",
        "      lowerrandnum = random.randint(97, 122)\n",
        "      lowerchar = chr(lowerrandnum)\n",
        "      lowertextpassword += lowerchar\n",
        "    if chartype == \"mix\":\n",
        "      numSymbol = random.randint(32, 64)\n",
        "      symbolcharacter = chr(numSymbol)\n",
        "      upperrandnum = random.randint(65, 90)\n",
        "      uppercharacter = chr(upperrandnum)\n",
        "      lowerrandnum = random.randint(97, 122)\n",
        "      lowercharacter = chr(lowerrandnum)\n",
        "      randtype = random.randint(1,3)\n",
        "      if randtype == 1:\n",
        "        mixtextpassword += symbolcharacter\n",
        "      if randtype == 2:\n",
        "        mixtextpassword += uppercharacter\n",
        "      if randtype == 3:\n",
        "        mixtextpassword += lowercharacter\n",
        "      # else:\n",
        "        # print(\"mix problem\")\n",
        "\n",
        "\n",
        "\n",
        "  if chartype == \"symbol\":\n",
        "    return symbolpassword\n",
        "  if chartype == \"uppertext\":\n",
        "    return uppertextpassword\n",
        "  if chartype == \"lowertext\":\n",
        "    return lowertextpassword\n",
        "  if chartype == \"mix\":\n",
        "    return mixtextpassword\n",
        "  else:\n",
        "    return \"you enter invalid text\"\n",
        "\n",
        "\n",
        "generates_password(8, \"mix\")"
      ],
      "metadata": {
        "id": "XdTn-_lm-eHm"
      },
      "execution_count": null,
      "outputs": []
    }
  ]
}